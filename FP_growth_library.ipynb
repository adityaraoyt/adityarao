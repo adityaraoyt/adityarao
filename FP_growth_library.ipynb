{
  "nbformat": 4,
  "nbformat_minor": 0,
  "metadata": {
    "colab": {
      "name": "FP_growth_library.ipynb",
      "provenance": []
    },
    "kernelspec": {
      "name": "python3",
      "display_name": "Python 3"
    }
  },
  "cells": [
    {
      "cell_type": "code",
      "metadata": {
        "colab": {
          "base_uri": "https://localhost:8080/"
        },
        "id": "0DuvGh6gC8Fy",
        "outputId": "0d16785e-3a84-4e16-c252-38b752245e72"
      },
      "source": [
        "pip install fpgrowth_py"
      ],
      "execution_count": 1,
      "outputs": [
        {
          "output_type": "stream",
          "text": [
            "Collecting fpgrowth_py\n",
            "  Downloading https://files.pythonhosted.org/packages/18/51/e0cc561ab4a1079c1fad85a43bfa1a95fbe1f4f27c866d12b4d79f95b1ac/fpgrowth_py-1.0.0-py3-none-any.whl\n",
            "Installing collected packages: fpgrowth-py\n",
            "Successfully installed fpgrowth-py-1.0.0\n"
          ],
          "name": "stdout"
        }
      ]
    },
    {
      "cell_type": "code",
      "metadata": {
        "colab": {
          "base_uri": "https://localhost:8080/"
        },
        "id": "gPfosY2zDfPj",
        "outputId": "aee5ab3d-bb91-4846-9adb-5821fad10e38"
      },
      "source": [
        "from fpgrowth_py import fpgrowth\r\n",
        "itemSetList = [['eggs', 'bacon', 'soup','nan','nan','nan','nan'],\r\n",
        "                ['eggs', 'bacon', 'apple','nan','nan','nan'],\r\n",
        "                ['soup', 'bacon', 'banana','nan','nan']]\r\n",
        "freqItemSet, rules = fpgrowth(itemSetList, minSupRatio=0.5, minConf=0.4)\r\n",
        "print(freqItemSet)\r\n",
        "print(rules)"
      ],
      "execution_count": 61,
      "outputs": [
        {
          "output_type": "stream",
          "text": [
            "[{'eggs'}, {'bacon', 'eggs'}, {'nan', 'bacon', 'eggs'}, {'nan', 'bacon', 'eggs'}, {'nan', 'bacon', 'eggs'}, {'nan', 'eggs'}, {'nan', 'eggs'}, {'nan', 'eggs'}, {'soup'}, {'soup', 'bacon'}, {'nan', 'soup', 'bacon'}, {'nan', 'soup', 'bacon'}, {'nan', 'soup', 'bacon'}, {'nan', 'soup'}, {'nan', 'soup'}, {'nan', 'soup'}, {'bacon'}, {'nan', 'bacon'}, {'nan', 'bacon'}, {'nan', 'bacon'}, {'nan'}, {'nan'}, {'nan'}]\n",
            "[[{'bacon'}, {'eggs'}, 0.6666666666666666], [{'eggs'}, {'bacon'}, 1.0], [{'nan'}, {'bacon', 'eggs'}, 0.6666666666666666], [{'bacon'}, {'nan', 'eggs'}, 0.6666666666666666], [{'eggs'}, {'nan', 'bacon'}, 1.0], [{'nan', 'bacon'}, {'eggs'}, 0.6666666666666666], [{'nan', 'eggs'}, {'bacon'}, 1.0], [{'bacon', 'eggs'}, {'nan'}, 1.0], [{'nan'}, {'bacon', 'eggs'}, 0.6666666666666666], [{'bacon'}, {'nan', 'eggs'}, 0.6666666666666666], [{'eggs'}, {'nan', 'bacon'}, 1.0], [{'nan', 'bacon'}, {'eggs'}, 0.6666666666666666], [{'nan', 'eggs'}, {'bacon'}, 1.0], [{'bacon', 'eggs'}, {'nan'}, 1.0], [{'nan'}, {'bacon', 'eggs'}, 0.6666666666666666], [{'bacon'}, {'nan', 'eggs'}, 0.6666666666666666], [{'eggs'}, {'nan', 'bacon'}, 1.0], [{'nan', 'bacon'}, {'eggs'}, 0.6666666666666666], [{'nan', 'eggs'}, {'bacon'}, 1.0], [{'bacon', 'eggs'}, {'nan'}, 1.0], [{'nan'}, {'eggs'}, 0.6666666666666666], [{'eggs'}, {'nan'}, 1.0], [{'nan'}, {'eggs'}, 0.6666666666666666], [{'eggs'}, {'nan'}, 1.0], [{'nan'}, {'eggs'}, 0.6666666666666666], [{'eggs'}, {'nan'}, 1.0], [{'soup'}, {'bacon'}, 1.0], [{'bacon'}, {'soup'}, 0.6666666666666666], [{'nan'}, {'soup', 'bacon'}, 0.6666666666666666], [{'soup'}, {'nan', 'bacon'}, 1.0], [{'bacon'}, {'nan', 'soup'}, 0.6666666666666666], [{'nan', 'soup'}, {'bacon'}, 1.0], [{'nan', 'bacon'}, {'soup'}, 0.6666666666666666], [{'soup', 'bacon'}, {'nan'}, 1.0], [{'nan'}, {'soup', 'bacon'}, 0.6666666666666666], [{'soup'}, {'nan', 'bacon'}, 1.0], [{'bacon'}, {'nan', 'soup'}, 0.6666666666666666], [{'nan', 'soup'}, {'bacon'}, 1.0], [{'nan', 'bacon'}, {'soup'}, 0.6666666666666666], [{'soup', 'bacon'}, {'nan'}, 1.0], [{'nan'}, {'soup', 'bacon'}, 0.6666666666666666], [{'soup'}, {'nan', 'bacon'}, 1.0], [{'bacon'}, {'nan', 'soup'}, 0.6666666666666666], [{'nan', 'soup'}, {'bacon'}, 1.0], [{'nan', 'bacon'}, {'soup'}, 0.6666666666666666], [{'soup', 'bacon'}, {'nan'}, 1.0], [{'nan'}, {'soup'}, 0.6666666666666666], [{'soup'}, {'nan'}, 1.0], [{'nan'}, {'soup'}, 0.6666666666666666], [{'soup'}, {'nan'}, 1.0], [{'nan'}, {'soup'}, 0.6666666666666666], [{'soup'}, {'nan'}, 1.0], [{'nan'}, {'bacon'}, 1.0], [{'bacon'}, {'nan'}, 1.0], [{'nan'}, {'bacon'}, 1.0], [{'bacon'}, {'nan'}, 1.0], [{'nan'}, {'bacon'}, 1.0], [{'bacon'}, {'nan'}, 1.0]]\n"
          ],
          "name": "stdout"
        }
      ]
    },
    {
      "cell_type": "code",
      "metadata": {
        "id": "7zbjHNi_DtKU"
      },
      "source": [
        "import numpy as np\r\n",
        "import matplotlib.pyplot as plt\r\n",
        "import pandas as pd"
      ],
      "execution_count": 4,
      "outputs": []
    },
    {
      "cell_type": "code",
      "metadata": {
        "id": "7eQeSSulKZ4B"
      },
      "source": [
        "data = pd.read_csv(\"shopping_data.csv\",)"
      ],
      "execution_count": 6,
      "outputs": []
    },
    {
      "cell_type": "code",
      "metadata": {
        "colab": {
          "base_uri": "https://localhost:8080/",
          "height": 195
        },
        "id": "0xrmzv4eKnQD",
        "outputId": "186dd8b2-1f30-4d9b-d1b6-ddfc92ad0d5d"
      },
      "source": [
        "data.head()"
      ],
      "execution_count": 7,
      "outputs": [
        {
          "output_type": "execute_result",
          "data": {
            "text/html": [
              "<div>\n",
              "<style scoped>\n",
              "    .dataframe tbody tr th:only-of-type {\n",
              "        vertical-align: middle;\n",
              "    }\n",
              "\n",
              "    .dataframe tbody tr th {\n",
              "        vertical-align: top;\n",
              "    }\n",
              "\n",
              "    .dataframe thead th {\n",
              "        text-align: right;\n",
              "    }\n",
              "</style>\n",
              "<table border=\"1\" class=\"dataframe\">\n",
              "  <thead>\n",
              "    <tr style=\"text-align: right;\">\n",
              "      <th></th>\n",
              "      <th>Bread</th>\n",
              "      <th>Butter</th>\n",
              "      <th>Cheese</th>\n",
              "      <th>Coffee Powder</th>\n",
              "      <th>Ghee</th>\n",
              "      <th>Lassi</th>\n",
              "      <th>Milk</th>\n",
              "      <th>Paneer</th>\n",
              "      <th>Sugar</th>\n",
              "      <th>Sweet</th>\n",
              "      <th>Tea Powder</th>\n",
              "      <th>Yoghurt</th>\n",
              "    </tr>\n",
              "  </thead>\n",
              "  <tbody>\n",
              "    <tr>\n",
              "      <th>0</th>\n",
              "      <td>Lassi</td>\n",
              "      <td>Coffee Powder</td>\n",
              "      <td>Butter</td>\n",
              "      <td>Yoghurt</td>\n",
              "      <td>Ghee</td>\n",
              "      <td>Cheese</td>\n",
              "      <td>NaN</td>\n",
              "      <td>NaN</td>\n",
              "      <td>NaN</td>\n",
              "      <td>NaN</td>\n",
              "      <td>NaN</td>\n",
              "      <td>NaN</td>\n",
              "    </tr>\n",
              "    <tr>\n",
              "      <th>1</th>\n",
              "      <td>Ghee</td>\n",
              "      <td>Coffee Powder</td>\n",
              "      <td>NaN</td>\n",
              "      <td>NaN</td>\n",
              "      <td>NaN</td>\n",
              "      <td>NaN</td>\n",
              "      <td>NaN</td>\n",
              "      <td>NaN</td>\n",
              "      <td>NaN</td>\n",
              "      <td>NaN</td>\n",
              "      <td>NaN</td>\n",
              "      <td>NaN</td>\n",
              "    </tr>\n",
              "    <tr>\n",
              "      <th>2</th>\n",
              "      <td>Lassi</td>\n",
              "      <td>Tea Powder</td>\n",
              "      <td>Butter</td>\n",
              "      <td>Cheese</td>\n",
              "      <td>NaN</td>\n",
              "      <td>NaN</td>\n",
              "      <td>NaN</td>\n",
              "      <td>NaN</td>\n",
              "      <td>NaN</td>\n",
              "      <td>NaN</td>\n",
              "      <td>NaN</td>\n",
              "      <td>NaN</td>\n",
              "    </tr>\n",
              "    <tr>\n",
              "      <th>3</th>\n",
              "      <td>Cheese</td>\n",
              "      <td>Tea Powder</td>\n",
              "      <td>Paneer</td>\n",
              "      <td>Coffee Powder</td>\n",
              "      <td>Butter</td>\n",
              "      <td>Bread</td>\n",
              "      <td>NaN</td>\n",
              "      <td>NaN</td>\n",
              "      <td>NaN</td>\n",
              "      <td>NaN</td>\n",
              "      <td>NaN</td>\n",
              "      <td>NaN</td>\n",
              "    </tr>\n",
              "    <tr>\n",
              "      <th>4</th>\n",
              "      <td>Cheese</td>\n",
              "      <td>Yoghurt</td>\n",
              "      <td>Coffee Powder</td>\n",
              "      <td>Sugar</td>\n",
              "      <td>Butter</td>\n",
              "      <td>Sweet</td>\n",
              "      <td>NaN</td>\n",
              "      <td>NaN</td>\n",
              "      <td>NaN</td>\n",
              "      <td>NaN</td>\n",
              "      <td>NaN</td>\n",
              "      <td>NaN</td>\n",
              "    </tr>\n",
              "  </tbody>\n",
              "</table>\n",
              "</div>"
            ],
            "text/plain": [
              "    Bread         Butter         Cheese  ... Sweet Tea Powder Yoghurt\n",
              "0   Lassi  Coffee Powder         Butter  ...   NaN        NaN     NaN\n",
              "1    Ghee  Coffee Powder            NaN  ...   NaN        NaN     NaN\n",
              "2   Lassi     Tea Powder         Butter  ...   NaN        NaN     NaN\n",
              "3  Cheese     Tea Powder         Paneer  ...   NaN        NaN     NaN\n",
              "4  Cheese        Yoghurt  Coffee Powder  ...   NaN        NaN     NaN\n",
              "\n",
              "[5 rows x 12 columns]"
            ]
          },
          "metadata": {
            "tags": []
          },
          "execution_count": 7
        }
      ]
    },
    {
      "cell_type": "code",
      "metadata": {
        "colab": {
          "base_uri": "https://localhost:8080/"
        },
        "id": "cDYoiC0cRa1b",
        "outputId": "2a6fc257-6e86-43c1-f6e5-f1ca3074ab22"
      },
      "source": [
        "data.shape"
      ],
      "execution_count": 8,
      "outputs": [
        {
          "output_type": "execute_result",
          "data": {
            "text/plain": [
              "(411, 12)"
            ]
          },
          "metadata": {
            "tags": []
          },
          "execution_count": 8
        }
      ]
    },
    {
      "cell_type": "code",
      "metadata": {
        "colab": {
          "base_uri": "https://localhost:8080/"
        },
        "id": "txHaqgxUTwQ5",
        "outputId": "72474966-25ad-40db-d43e-afd3ac52d98e"
      },
      "source": [
        "type(data.loc[0,'Milk'])"
      ],
      "execution_count": 40,
      "outputs": [
        {
          "output_type": "execute_result",
          "data": {
            "text/plain": [
              "float"
            ]
          },
          "metadata": {
            "tags": []
          },
          "execution_count": 40
        }
      ]
    },
    {
      "cell_type": "code",
      "metadata": {
        "id": "s1gw7ieURguW"
      },
      "source": [
        "records = []\r\n",
        "for i in range(0,411):\r\n",
        "  records.append([data.values[i,j] for j in range(0,12)])"
      ],
      "execution_count": 80,
      "outputs": []
    },
    {
      "cell_type": "code",
      "metadata": {
        "id": "MxdwPimvRkmL"
      },
      "source": [
        "final_list = []\r\n",
        "for i in range(len(records)):\r\n",
        "  temp = []\r\n",
        "  for x in records[i]:\r\n",
        "    if str(x)!='nan':\r\n",
        "      temp.append(x)\r\n",
        "  final_list.append(temp)"
      ],
      "execution_count": 81,
      "outputs": []
    },
    {
      "cell_type": "code",
      "metadata": {
        "colab": {
          "base_uri": "https://localhost:8080/"
        },
        "id": "NF99hPvngh9p",
        "outputId": "da96be45-9f87-4c61-d756-ecb846ce2d2e"
      },
      "source": [
        "final_list[0]"
      ],
      "execution_count": 82,
      "outputs": [
        {
          "output_type": "execute_result",
          "data": {
            "text/plain": [
              "['Lassi', 'Coffee Powder', 'Butter', 'Yoghurt', 'Ghee', 'Cheese']"
            ]
          },
          "metadata": {
            "tags": []
          },
          "execution_count": 82
        }
      ]
    },
    {
      "cell_type": "code",
      "metadata": {
        "colab": {
          "base_uri": "https://localhost:8080/"
        },
        "id": "PAPKd4taaaSV",
        "outputId": "da638a22-f4f4-4188-f0e5-0c2dd9a55cf3"
      },
      "source": [
        "freqItemSet, rules = fpgrowth(final_list, minSupRatio=0.2, minConf=0.3)\r\n",
        "print(freqItemSet)\r\n",
        "print(rules)"
      ],
      "execution_count": 83,
      "outputs": [
        {
          "output_type": "stream",
          "text": [
            "[{'Sweet'}, {'Sweet', 'Coffee Powder'}, {'Sweet', 'Ghee'}, {'Lassi'}, {'Butter', 'Lassi'}, {'Lassi', 'Coffee Powder'}, {'Tea Powder'}, {'Tea Powder', 'Coffee Powder'}, {'Bread'}, {'Yoghurt', 'Bread'}, {'Coffee Powder', 'Bread'}, {'Paneer'}, {'Coffee Powder', 'Paneer'}, {'Milk', 'Paneer'}, {'Sugar'}, {'Butter', 'Sugar'}, {'Yoghurt', 'Sugar'}, {'Sugar', 'Cheese'}, {'Sugar', 'Coffee Powder'}, {'Milk'}, {'Ghee', 'Milk'}, {'Coffee Powder', 'Milk'}, {'Cheese'}, {'Butter', 'Cheese'}, {'Coffee Powder', 'Cheese'}, {'Yoghurt', 'Cheese'}, {'Butter'}, {'Butter', 'Ghee'}, {'Butter', 'Coffee Powder'}, {'Butter', 'Yoghurt'}, {'Yoghurt'}, {'Yoghurt', 'Coffee Powder'}, {'Ghee'}, {'Ghee', 'Coffee Powder'}, {'Coffee Powder'}]\n",
            "[[{'Sweet'}, {'Coffee Powder'}, 0.503030303030303], [{'Coffee Powder'}, {'Sweet'}, 0.41708542713567837], [{'Sweet'}, {'Ghee'}, 0.509090909090909], [{'Ghee'}, {'Sweet'}, 0.44919786096256686], [{'Butter'}, {'Lassi'}, 0.5054945054945055], [{'Lassi'}, {'Butter'}, 0.5380116959064327], [{'Lassi'}, {'Coffee Powder'}, 0.5380116959064327], [{'Coffee Powder'}, {'Lassi'}, 0.4623115577889447], [{'Tea Powder'}, {'Coffee Powder'}, 0.5116279069767442], [{'Coffee Powder'}, {'Tea Powder'}, 0.44221105527638194], [{'Yoghurt'}, {'Bread'}, 0.4648648648648649], [{'Bread'}, {'Yoghurt'}, 0.5], [{'Coffee Powder'}, {'Bread'}, 0.45226130653266333], [{'Bread'}, {'Coffee Powder'}, 0.5232558139534884], [{'Coffee Powder'}, {'Paneer'}, 0.4271356783919598], [{'Paneer'}, {'Coffee Powder'}, 0.4857142857142857], [{'Milk'}, {'Paneer'}, 0.480225988700565], [{'Paneer'}, {'Milk'}, 0.4857142857142857], [{'Butter'}, {'Sugar'}, 0.45604395604395603], [{'Sugar'}, {'Butter'}, 0.4742857142857143], [{'Yoghurt'}, {'Sugar'}, 0.4486486486486487], [{'Sugar'}, {'Yoghurt'}, 0.4742857142857143], [{'Sugar'}, {'Cheese'}, 0.49142857142857144], [{'Cheese'}, {'Sugar'}, 0.4777777777777778], [{'Sugar'}, {'Coffee Powder'}, 0.5142857142857142], [{'Coffee Powder'}, {'Sugar'}, 0.45226130653266333], [{'Ghee'}, {'Milk'}, 0.44919786096256686], [{'Milk'}, {'Ghee'}, 0.4745762711864407], [{'Coffee Powder'}, {'Milk'}, 0.45226130653266333], [{'Milk'}, {'Coffee Powder'}, 0.5084745762711864], [{'Butter'}, {'Cheese'}, 0.4835164835164835], [{'Cheese'}, {'Butter'}, 0.4888888888888889], [{'Coffee Powder'}, {'Cheese'}, 0.4623115577889447], [{'Cheese'}, {'Coffee Powder'}, 0.5111111111111111], [{'Yoghurt'}, {'Cheese'}, 0.518918918918919], [{'Cheese'}, {'Yoghurt'}, 0.5333333333333333], [{'Butter'}, {'Ghee'}, 0.45604395604395603], [{'Ghee'}, {'Butter'}, 0.44385026737967914], [{'Butter'}, {'Coffee Powder'}, 0.47802197802197804], [{'Coffee Powder'}, {'Butter'}, 0.4371859296482412], [{'Butter'}, {'Yoghurt'}, 0.521978021978022], [{'Yoghurt'}, {'Butter'}, 0.5135135135135135], [{'Yoghurt'}, {'Coffee Powder'}, 0.5297297297297298], [{'Coffee Powder'}, {'Yoghurt'}, 0.49246231155778897], [{'Ghee'}, {'Coffee Powder'}, 0.5026737967914439], [{'Coffee Powder'}, {'Ghee'}, 0.4723618090452261]]\n"
          ],
          "name": "stdout"
        }
      ]
    },
    {
      "cell_type": "code",
      "metadata": {
        "id": "cUuA45cjR8bS"
      },
      "source": [
        ""
      ],
      "execution_count": null,
      "outputs": []
    }
  ]
}